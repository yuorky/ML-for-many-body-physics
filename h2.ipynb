{
 "cells": [
  {
   "cell_type": "code",
   "execution_count": 45,
   "metadata": {},
   "outputs": [],
   "source": [
    "import numpy as np\n",
    "import matplotlib.pyplot as plt\n",
    "import tensorflow as tf\n",
    "from sklearn.model_selection import train_test_split"
   ]
  },
  {
   "cell_type": "code",
   "execution_count": 46,
   "metadata": {},
   "outputs": [],
   "source": [
    "#Specify font sizes for plots:\n",
    "plt.rcParams['axes.labelsize']  = 22\n",
    "plt.rcParams['legend.fontsize'] = 22\n",
    "plt.rcParams['xtick.labelsize'] = 22\n",
    "plt.rcParams['ytick.labelsize'] = 22\n",
    "\n",
    "seed=1234\n",
    "np.random.seed(seed)\n",
    "tf.set_random_seed(seed)\n",
    "np.random.seed(1234)\n",
    "\n",
    "plt.ion() # turn on interactive mode (for plotting)"
   ]
  },
  {
   "cell_type": "code",
   "execution_count": 47,
   "metadata": {},
   "outputs": [],
   "source": [
    "x_data = np.loadtxt('x_L30.txt',dtype='int8')\n",
    "y_data = np.loadtxt('y_L30.txt',dtype='int8')\n",
    "T_data = np.loadtxt('T_L30.txt',dtype='float32')\n",
    "\n",
    "P = 0.7\n",
    "mm = x_data.shape[0]\n",
    "idx_m = np.random.permutation(mm)\n",
    "\n",
    "train_idx = idx_m[0:round(P*mm)]\n",
    "validation_idx = idx_m[round(P*mm):round(0.9*mm)]\n",
    "test_idx = idx_m[round(0.9*mm):mm+1]\n",
    "\n",
    "X_train = x_data[train_idx]\n",
    "y_train = y_data[train_idx]\n",
    "\n",
    "X_val = x_data[validation_idx]\n",
    "y_val = y_data[validation_idx]\n",
    "\n",
    "X_test = x_data[test_idx]\n",
    "y_test = y_data[test_idx]\n",
    "T_test = T_data[test_idx]\n",
    "\n",
    "N = 50 # number of points per branch\n",
    "K = 2  # number of branches\n",
    "batch_size = 100"
   ]
  },
  {
   "cell_type": "code",
   "execution_count": 48,
   "metadata": {},
   "outputs": [],
   "source": [
    "############################################################################\n",
    "##################### DEFINE THE NETWORK ARCHITECTURE ######################\n",
    "############################################################################\n",
    "\n",
    "### Create placeholders for the input data and labels ###\n",
    "### (we'll input actual values when we ask TensorFlow to run an actual computation later) ###\n",
    "x = tf.placeholder(tf.float32, [None, 900]) # input data\n",
    "y = tf.placeholder(tf.int32,[None])       # labels\n",
    "\n",
    "### Layer 1: ###\n",
    "W1 = tf.Variable( tf.random_normal([900, 120], mean=0.0, stddev=0.01, dtype=tf.float32,seed=1234) )\n",
    "b1 = tf.Variable( tf.zeros([120]) )\n",
    "z1 = tf.matmul(x, W1) + b1\n",
    "a1 = tf.nn.sigmoid( z1 )\n",
    "\n",
    "W2 = W1 = tf.Variable( tf.random_normal([120, 2], mean=0.0, stddev=0.01, dtype=tf.float32,seed=1234) )\n",
    "b2 = tf.Variable( tf.zeros([2]) )\n",
    "z2 = tf.matmul(a1,W2) + b2\n",
    "a2 = tf.nn.sigmoid(z2)\n",
    "### Network output: ###\n",
    "aL = a2\n",
    "\n",
    "### Cost function: ###\n",
    "### (measures how far off our model is from the labels) ###\n",
    "y_onehot = tf.one_hot(y,depth=K) # labels are converted to one-hot representation\n",
    "eps=0.0000000001 # to prevent the logs from diverging\n",
    "cross_entropy = tf.reduce_mean(-tf.reduce_sum( y_onehot * tf.log(aL+eps) +  (1.0-y_onehot )*tf.log(1.0-aL +eps) , reduction_indices=[1]))\n",
    "cost_func = cross_entropy + tf.contrib.layers.l2_regularizer(0.1)(W1) + tf.contrib.layers.l2_regularizer(0.1)(W2)\n",
    "\n",
    "### Use backpropagation to minimize the cost function using the gradient descent algorithm: ###\n",
    "learning_rate  = 0.1 # hyperparameter\n",
    "train_step = tf.train.GradientDescentOptimizer(learning_rate).minimize(cost_func)\n",
    "\n",
    "N_epochs = 50 # number of times to run gradient descent\n",
    "\n",
    "\n",
    "##############################################################################\n",
    "################################## TRAINING ##################################\n",
    "##############################################################################\n",
    "sess = tf.Session()\n",
    "sess.run(tf.global_variables_initializer())\n",
    "\n",
    "epoch_list    = []\n",
    "cost_training = []\n",
    "acc_training  = []\n",
    "cost_validation = []\n",
    "acc_validation = []\n",
    "\n",
    "\n",
    "############ Function for plotting: ############\n",
    "def updatePlot():\n",
    "\n",
    "    ### Plot the cost function during training: ###\n",
    "    a = plt.subplot(211)\n",
    "    a.plot(epoch_list,cost_training,'bo-',label='Training cost')\n",
    "    a.plot(epoch_list,cost_validation,'g^:',label='Validation cost')\n",
    "    plt.xlabel('Epoch')\n",
    "    plt.ylabel('Cost')\n",
    "    a.legend(loc='upper right')\n",
    "\n",
    "    ### Plot the training accuracy: ###\n",
    "    b=plt.subplot(212)\n",
    "    b.plot(epoch_list,acc_training,'mo-',label='Training accuracy')\n",
    "    b.plot(epoch_list,acc_validation,'c^-',label='Validation accuracy')\n",
    "    plt.xlabel('Epoch')\n",
    "    plt.ylabel('Accuracy')\n",
    "    b.legend(loc='lower right')\n",
    "############ End of plotting function ############\n",
    "\n",
    "### Train for several epochs: ###\n",
    "for epoch in range(N_epochs):\n",
    "    sess.run(train_step, feed_dict={x: X_train,y:y_train}) #run gradient descent\n",
    "    \n",
    "    ### Update the plot and print results every 500 epochs: ###\n",
    "    if epoch % 1 == 0:\n",
    "        cost1 = sess.run(cost_func,feed_dict={x:X_train, y:y_train})\n",
    "        cost2 = sess.run(cost_func,feed_dict={x:X_val, y:y_val})\n",
    "        \n",
    "        NN_output_train = sess.run(aL,feed_dict={x:X_train, y:y_train})\n",
    "        predicted_class1 = np.argmax(NN_output_train, axis=1)\n",
    "        accuracy1 = np.mean(predicted_class1 == y_train)\n",
    "        \n",
    "        NN_output_val = sess.run(aL,feed_dict={x:X_val, y:y_val})\n",
    "        predicted_class2 = np.argmax(NN_output_val,axis=1)\n",
    "        accuracy2 = np.mean(predicted_class2 == y_val)\n",
    "        \n",
    "#         print( \"Iteration %d:\\n  Training cost %f\\n  Training accuracy %f\\n\" % (epoch, cost1, accuracy1) )\n",
    "#         print( \"Iteration %d:\\n  Validation cost %f\\n  Validation accuracy %f\\n\" % (epoch, cost2, accuracy2) )  \n",
    "        \n",
    "        epoch_list.append(epoch)\n",
    "        cost_training.append(cost1)\n",
    "        cost_validation.append(cost2)\n",
    "        acc_training.append(accuracy1)\n",
    "        acc_validation.append(accuracy2)\n",
    "        \n",
    "#         ### Update the plot of the resulting classifier: ###\n",
    "#         fig = plt.figure(2,figsize=(10,5))\n",
    "#         fig.subplots_adjust(hspace=.3,wspace=.3)\n",
    "#         plt.clf()\n",
    "#         updatePlot()\n",
    "#         plt.pause(0.1)\n",
    "\n",
    "# plt.savefig('spiral_results1.png') # Save the figure showing the results in the current directory\n",
    "# plt.show()"
   ]
  },
  {
   "cell_type": "code",
   "execution_count": 49,
   "metadata": {},
   "outputs": [],
   "source": [
    "a = sess.run(aL, feed_dict={x:X_test,y:y_test})\n",
    "predicted_class3 = np.argmax(a, axis=1)\n",
    "accuracy3 = np.mean(predicted_class3 == y_test)"
   ]
  },
  {
   "cell_type": "code",
   "execution_count": 51,
   "metadata": {},
   "outputs": [],
   "source": [
    "from sklearn.metrics import accuracy_score\n",
    "\n",
    "# averaging accuracy\n",
    "u_T = np.unique(T_test)\n",
    "a_mean = []\n",
    "for T in u_T:\n",
    "    idx = T_test == T\n",
    "    a_T = accuracy_score(predicted_class3[idx], y_test[idx])\n",
    "    a_mean.append(a_T)\n"
   ]
  },
  {
   "cell_type": "code",
   "execution_count": 52,
   "metadata": {},
   "outputs": [
    {
     "data": {
      "image/png": "[encoded data removed]",
      "text/plain": [
       "<Figure size 432x288 with 1 Axes>"
      ]
     },
     "metadata": {
      "needs_background": "light"
     },
     "output_type": "display_data"
    }
   ],
   "source": [
    "plt.plot(u_T, a_mean)\n",
    "plt.xlabel(\"T\")\n",
    "plt.ylabel(\"Accuracy\")\n",
    "plt.show()"
   ]
  },
  {
   "cell_type": "code",
   "execution_count": 58,
   "metadata": {},
   "outputs": [],
   "source": [
    "a1_mean = []\n",
    "a2_mean = []\n",
    "\n",
    "for T in u_T:\n",
    "    idx = T_test == T\n",
    "    a1_T = np.mean(a[idx, 0])\n",
    "    a2_T = np.mean(a[idx, 1])\n",
    "    a1_mean.append(a1_T)\n",
    "    a2_mean.append(a2_T)"
   ]
  },
  {
   "cell_type": "code",
   "execution_count": 68,
   "metadata": {},
   "outputs": [
    {
     "data": {
      "image/png": "[encoded data removed]",
      "text/plain": [
       "<Figure size 432x288 with 1 Axes>"
      ]
     },
     "metadata": {
      "needs_background": "light"
     },
     "output_type": "display_data"
    }
   ],
   "source": [
    "plt.plot(u_T, a1_mean, label=\"Neuron_1\")\n",
    "plt.plot(u_T, a2_mean, label=\"Neuron_2\")\n",
    "plt.xlabel(\"T\")\n",
    "plt.ylabel(\"Output\")\n",
    "plt.legend(loc=3, prop={'size': 8})\n",
    "plt.show()"
   ]
  },
  {
   "cell_type": "code",
   "execution_count": null,
   "metadata": {},
   "outputs": [],
   "source": []
  }
 ],
 "metadata": {
  "kernelspec": {
   "display_name": "venv",
   "language": "python",
   "name": "venv"
  },
  "language_info": {
   "codemirror_mode": {
    "name": "ipython",
    "version": 3
   },
   "file_extension": ".py",
   "mimetype": "text/x-python",
   "name": "python",
   "nbconvert_exporter": "python",
   "pygments_lexer": "ipython3",
   "version": "3.6.7"
  }
 },
 "nbformat": 4,
 "nbformat_minor": 2
}
